{
 "cells": [
  {
   "cell_type": "code",
   "execution_count": 12,
   "metadata": {
    "ExecuteTime": {
     "end_time": "2021-09-27T14:51:58.749300Z",
     "start_time": "2021-09-27T14:51:58.730079Z"
    }
   },
   "outputs": [],
   "source": [
    "import os\n",
    "import numpy as np\n",
    "import pandas as pd\n",
    "import sklearn as sk\n",
    "import scipy\n",
    "from sklearn.metrics import auc, recall_score, precision_score, f1_score, accuracy_score, roc_auc_score, brier_score_loss, plot_roc_curve, confusion_matrix\n",
    "from sklearn.model_selection import StratifiedKFold, KFold, GridSearchCV, RepeatedStratifiedKFold\n",
    "from sklearn.feature_selection import SelectFromModel, RFECV, SelectKBest, mutual_info_classif, chi2, f_classif\n",
    "from sklearn.pipeline import Pipeline, make_pipeline\n",
    "from sklearn.impute import KNNImputer\n",
    "from sklearn.ensemble import RandomForestClassifier\n",
    "from sklearn.compose import ColumnTransformer\n",
    "\n",
    "\n",
    "import matplotlib.pyplot as plt\n",
    "import seaborn as sns\n",
    "\n",
    "# import unicodedata # for feature names\n",
    "import lightgbm\n",
    "\n",
    "import dill\n",
    "from datetime import datetime"
   ]
  },
  {
   "cell_type": "code",
   "execution_count": 17,
   "metadata": {
    "ExecuteTime": {
     "end_time": "2021-09-27T15:09:56.491439Z",
     "start_time": "2021-09-27T15:09:56.479660Z"
    }
   },
   "outputs": [],
   "source": [
    "def dump_model(model, feature_names=None, scores=None, name=None, desc=None, misc=None, path='./'):\n",
    "#         self.model = model # model pipeline compatible with sklearn API. Contains classifier functions, feature importances etc.\n",
    "#         self.name = name # used as filename, too\n",
    "#         self.desc = desc # textual description of model, which data it was trained on, etc.\n",
    "#         self.scores = scores # Eval scores, sensitivity, specificity, ... as dict\n",
    "#         self.feature_names = feature_names # feature names get lost in np; should be list(df.columns)\n",
    "#         self.misc = misc # Dict to store additional information not covered above\n",
    "\n",
    "#     def dump(self, path='./'):\n",
    "    if not name:\n",
    "        name = type(model).__name__ +'_'+ datetime.now().strftime(\"%Y%m%d-%Hh%Mm%Ss\")\n",
    "\n",
    "    FASDModel = {\n",
    "        \n",
    "        \"model\": model,\n",
    "        \"scores\": scores,\n",
    "        \"feature_names\": feature_names,\n",
    "        \"name\": name,\n",
    "        \"desc\": desc,\n",
    "        \"misc\": misc\n",
    "    }\n",
    "\n",
    "    dill.dump( FASDModel , open( path+name+\".p\", \"wb\" ) )\n",
    "    print(\"FASDModel dumped as\", name)\n",
    "    \n",
    "class InputTransformedPipeline():\n",
    "#     The pipelines expect 14 input features, even for models trained on 6 features, because all\n",
    "#     features have been used for imputation. \n",
    "#     This class allows to hand a dense input vector of the 6 selected features to the pipeline \n",
    "    \n",
    "    def __init__(self, clf):\n",
    "        self.clf = clf\n",
    "    \n",
    "    def predict_proba(self, fs6_array):\n",
    "        \n",
    "        nan = float(\"nan\")\n",
    "        feature_idx =  [0,3,6,8,10,12]\n",
    "        feats = [nan] * 14\n",
    "        \n",
    "        for idx, value in enumerate(fs6_array[0]):\n",
    "            feats[feature_idx[idx]] = value\n",
    "        feats = np.array(feats).reshape(1, -1)\n",
    "        return self.clf.predict_proba(feats)\n",
    "    \n",
    "    def predict(self, fs6_array):\n",
    "        \n",
    "        nan = float(\"nan\")\n",
    "        feature_idx =  [0,3,6,8,10,12]\n",
    "        feats = [nan] * 14\n",
    "        \n",
    "        for idx, value in enumerate(fs6_array[0]):\n",
    "            feats[feature_idx[idx]] = value\n",
    "        feats = np.array(feats).reshape(1, -1)\n",
    "        return self.clf.predict(feats)\n"
   ]
  },
  {
   "cell_type": "code",
   "execution_count": 3,
   "metadata": {
    "ExecuteTime": {
     "end_time": "2021-09-27T13:48:38.407333Z",
     "start_time": "2021-09-27T13:47:23.684239Z"
    }
   },
   "outputs": [],
   "source": [
    "#########################\n",
    "# Training on full data #\n",
    "#########################\n",
    "\n",
    "# For making an ensemble, use the readily trained models from the Combined ML notebook\n",
    "\n",
    "clf = RandomForestClassifier()\n",
    "\n",
    "param_grid_sf_rf = param_grid = { 'imputer__n_neighbors' : [1, 5, 10],\n",
    "              'imputer__weights' : ['distance'],\n",
    "              'clf__n_estimators': [10, 20, 50, 100, 200],\n",
    "              'clf__min_samples_split' : [2, 4, 8, 16],\n",
    "              'clf__n_jobs' : [-1],\n",
    "             }\n",
    "\n",
    "data_path = '../data/adhs-fasd-17032021.xlsx'\n",
    "missing_values_thresh = 36\n",
    "\n",
    "# data = pd.read_excel(data_path)\n",
    "# on jupyterhub setup, we need openpyxl for reading the data \n",
    "data = pd.read_excel(data_path, engine='openpyxl')\n",
    "data = data.select_dtypes(\n",
    "    include=['float64','int64'],\n",
    "    exclude=['object']\n",
    "    )\n",
    "\n",
    "# features that are very easy to assess\n",
    "light = [    \n",
    "    'GKUzscore',\n",
    "    'GGzscore',\n",
    "    'KgEVzscore', \n",
    "    'GLzscore',\n",
    "    'KLEVzscore', \n",
    "    'Gestationsalter',\n",
    "    'Schlafstörungen', \n",
    "    'Para' \n",
    "] \n",
    "\n",
    "# features that are elaborate to assess\n",
    "extra = [\n",
    "     'IQunter85',    \n",
    "     'psychKomorbiditätjanein',\n",
    "     'Distanzlos', \n",
    "     'GestörteSprache', \n",
    "     'Nichtmerkfähig', \n",
    "]\n",
    "\n",
    "extended = light + extra + ['FASDjanein']\n",
    "\n",
    "features = extended\n",
    "X = data[features].to_numpy()\n",
    "y = data['FASDjanein'].to_numpy()\n",
    "\n",
    "pipe = Pipeline([('scaler', sk.preprocessing.RobustScaler()),\n",
    "                 ('imputer', KNNImputer(n_neighbors=2, weights=\"distance\")),\n",
    "                 ('select_feats', ColumnTransformer([(\"fs\", \"passthrough\", [0,3,6,8,10,12])], remainder=\"drop\",)),\n",
    "                 ('clf', clf)])\n",
    "\n",
    "score_to_optimize = 'roc_auc'\n",
    "inner_cv_folds = 10\n",
    "\n",
    "scoring = {'precision_macro': precision_score, \n",
    "       'recall_macro': recall_score, \n",
    "        'specificity': recall_score,\n",
    "       'f1_macro': f1_score, \n",
    "       'accuracy': accuracy_score, \n",
    "       'roc_auc': roc_auc_score, \n",
    "        'brier': brier_score_loss\n",
    "      }\n",
    "\n",
    "# configure the cross-validation procedure\n",
    "inner_cv = StratifiedKFold(n_splits=inner_cv_folds, shuffle=True, random_state=1)\n",
    "\n",
    "# define search    \n",
    "grid_search = GridSearchCV(pipe, \n",
    "                       param_grid=param_grid, \n",
    "                       scoring=score_to_optimize, \n",
    "                       refit=True, \n",
    "                       return_train_score=True, \n",
    "                       cv=inner_cv,\n",
    "                       n_jobs=-1)\n",
    "\n",
    "# execute search\n",
    "search_result = grid_search.fit(X, y)\n",
    "\n",
    "# get the best performing model fit on the whole training set\n",
    "best_model = search_result.best_estimator_"
   ]
  },
  {
   "cell_type": "code",
   "execution_count": 18,
   "metadata": {
    "ExecuteTime": {
     "end_time": "2021-09-27T15:10:03.287062Z",
     "start_time": "2021-09-27T15:10:03.241706Z"
    }
   },
   "outputs": [
    {
     "name": "stdout",
     "output_type": "stream",
     "text": [
      "FASDModel dumped as FASDetect_RF_20210927-15h10m03s\n"
     ]
    }
   ],
   "source": [
    "export_model = InputTransformedPipeline(best_model)\n",
    "dump_model(export_model, feature_names=['GKUzscore', 'GLzscore', 'Schlafstörungen', 'IQunter85', 'Distanzlos', 'Nichtmerkfähig'], name='FASDetect_RF'+'_'+ datetime.now().strftime(\"%Y%m%d-%Hh%Mm%Ss\"))"
   ]
  },
  {
   "cell_type": "markdown",
   "metadata": {},
   "source": [
    "## Tests"
   ]
  },
  {
   "cell_type": "code",
   "execution_count": 15,
   "metadata": {
    "ExecuteTime": {
     "end_time": "2021-09-27T14:57:29.928834Z",
     "start_time": "2021-09-27T14:57:29.806260Z"
    }
   },
   "outputs": [
    {
     "data": {
      "text/plain": [
       "array([[0.48670233, 0.51329767]])"
      ]
     },
     "execution_count": 15,
     "metadata": {},
     "output_type": "execute_result"
    }
   ],
   "source": [
    "nan = float(\"nan\")\n",
    "test = np.array([1, nan, nan, 2, nan, nan, 0, nan, 1, nan, 0, nan, 1, nan]).reshape(1, -1)\n",
    "best_model.predict_proba(test)"
   ]
  },
  {
   "cell_type": "code",
   "execution_count": 16,
   "metadata": {
    "ExecuteTime": {
     "end_time": "2021-09-27T14:57:32.245332Z",
     "start_time": "2021-09-27T14:57:32.240325Z"
    }
   },
   "outputs": [
    {
     "data": {
      "text/plain": [
       "sklearn.ensemble._forest.RandomForestClassifier"
      ]
     },
     "execution_count": 16,
     "metadata": {},
     "output_type": "execute_result"
    }
   ],
   "source": [
    "type(best_model['clf'])"
   ]
  },
  {
   "cell_type": "code",
   "execution_count": 100,
   "metadata": {
    "ExecuteTime": {
     "end_time": "2021-09-15T10:13:29.828577Z",
     "start_time": "2021-09-15T10:13:29.823645Z"
    }
   },
   "outputs": [],
   "source": [
    "export_model = InputTransformedPipeline(best_model)"
   ]
  },
  {
   "cell_type": "code",
   "execution_count": 102,
   "metadata": {
    "ExecuteTime": {
     "end_time": "2021-09-15T10:15:06.717456Z",
     "start_time": "2021-09-15T10:15:06.705160Z"
    }
   },
   "outputs": [
    {
     "data": {
      "text/plain": [
       "array([[0.64732874, 0.35267126]])"
      ]
     },
     "execution_count": 102,
     "metadata": {},
     "output_type": "execute_result"
    }
   ],
   "source": [
    "nan = float(\"nan\")\n",
    "test = np.array([1, nan, nan, 2, nan, nan, 0, nan, 1, nan, 0, nan, 1, nan]).reshape(1, -1)\n",
    "best_model.predict_proba(test)"
   ]
  },
  {
   "cell_type": "code",
   "execution_count": 103,
   "metadata": {
    "ExecuteTime": {
     "end_time": "2021-09-15T10:15:09.425446Z",
     "start_time": "2021-09-15T10:15:09.405249Z"
    }
   },
   "outputs": [
    {
     "data": {
      "text/plain": [
       "array([[0.64732874, 0.35267126]])"
      ]
     },
     "execution_count": 103,
     "metadata": {},
     "output_type": "execute_result"
    }
   ],
   "source": [
    "nan = float(\"nan\")\n",
    "test = np.array([1, 2, 0, 1, 0, 1]).reshape(1, -1)\n",
    "export_model.predict_proba(test)"
   ]
  },
  {
   "cell_type": "code",
   "execution_count": 38,
   "metadata": {
    "ExecuteTime": {
     "end_time": "2021-06-01T18:42:57.922204Z",
     "start_time": "2021-06-01T18:42:57.912143Z"
    }
   },
   "outputs": [
    {
     "name": "stdout",
     "output_type": "stream",
     "text": [
      "FASDModel dumped as Pipeline_20210601-18h42m57s\n"
     ]
    }
   ],
   "source": [
    "dump_model(search_result.best_estimator_, fs6)"
   ]
  },
  {
   "cell_type": "code",
   "execution_count": 12,
   "metadata": {
    "ExecuteTime": {
     "end_time": "2021-06-01T18:25:46.225621Z",
     "start_time": "2021-06-01T18:25:46.220515Z"
    }
   },
   "outputs": [
    {
     "data": {
      "text/plain": [
       "0.9115818549642078"
      ]
     },
     "execution_count": 12,
     "metadata": {},
     "output_type": "execute_result"
    }
   ],
   "source": [
    "search_result.best_score_"
   ]
  },
  {
   "cell_type": "code",
   "execution_count": 13,
   "metadata": {
    "ExecuteTime": {
     "end_time": "2021-06-01T18:25:50.620020Z",
     "start_time": "2021-06-01T18:25:50.613006Z"
    }
   },
   "outputs": [
    {
     "data": {
      "text/plain": [
       "{'clf__boosting': 'gbdt',\n",
       " 'clf__learning_rate': 0.05,\n",
       " 'clf__max_bin': 127,\n",
       " 'clf__num_iterations': 50,\n",
       " 'imputer__n_neighbors': 10,\n",
       " 'imputer__weights': 'uniform'}"
      ]
     },
     "execution_count": 13,
     "metadata": {},
     "output_type": "execute_result"
    }
   ],
   "source": [
    "search_result.best_params_"
   ]
  },
  {
   "cell_type": "code",
   "execution_count": 14,
   "metadata": {
    "ExecuteTime": {
     "end_time": "2021-06-01T18:25:55.286353Z",
     "start_time": "2021-06-01T18:25:55.275554Z"
    }
   },
   "outputs": [
    {
     "data": {
      "text/plain": [
       "Pipeline(steps=[('scaler', RobustScaler()),\n",
       "                ('imputer', KNNImputer(n_neighbors=10)),\n",
       "                ('clf',\n",
       "                 LGBMClassifier(boosting='gbdt', learning_rate=0.05,\n",
       "                                max_bin=127, num_iterations=50))])"
      ]
     },
     "execution_count": 14,
     "metadata": {},
     "output_type": "execute_result"
    }
   ],
   "source": [
    "search_result.best_estimator_"
   ]
  },
  {
   "cell_type": "code",
   "execution_count": 34,
   "metadata": {
    "ExecuteTime": {
     "end_time": "2021-06-01T18:39:57.894012Z",
     "start_time": "2021-06-01T18:39:57.874003Z"
    }
   },
   "outputs": [
    {
     "data": {
      "text/plain": [
       "array([[0.04825316, 0.95174684]])"
      ]
     },
     "execution_count": 34,
     "metadata": {},
     "output_type": "execute_result"
    }
   ],
   "source": [
    "nan = float(\"nan\")\n",
    "test = np.array([-0.46, -1.41, nan, nan, nan, nan]).reshape(1, -1)\n",
    "search_result.best_estimator_.predict_proba(test)"
   ]
  },
  {
   "cell_type": "code",
   "execution_count": 39,
   "metadata": {
    "ExecuteTime": {
     "end_time": "2021-06-01T18:52:13.548752Z",
     "start_time": "2021-06-01T18:52:13.539971Z"
    }
   },
   "outputs": [
    {
     "data": {
      "text/plain": [
       "array([[0.03187579, 0.96812421]])"
      ]
     },
     "execution_count": 39,
     "metadata": {},
     "output_type": "execute_result"
    }
   ],
   "source": [
    "nan = float(\"nan\")\n",
    "test = np.array([nan, nan, nan, nan, nan, nan]).reshape(1, -1)\n",
    "search_result.best_estimator_.predict_proba(test)"
   ]
  },
  {
   "cell_type": "code",
   "execution_count": 41,
   "metadata": {
    "ExecuteTime": {
     "end_time": "2021-06-03T22:02:08.943481Z",
     "start_time": "2021-06-03T22:00:31.365747Z"
    }
   },
   "outputs": [
    {
     "name": "stderr",
     "output_type": "stream",
     "text": [
      "/home/jupyter-lukas.ehrig/.local/lib/python3.7/site-packages/lightgbm/engine.py:151: UserWarning: Found `num_iterations` in params. Will use it instead of argument\n",
      "  warnings.warn(\"Found `{}` in params. Will use it instead of argument\".format(alias))\n"
     ]
    }
   ],
   "source": [
    "from imblearn.over_sampling import SMOTE\n",
    "from imblearn.pipeline import Pipeline\n",
    "\n",
    "pipe_oversampling = Pipeline([('scaler', sk.preprocessing.RobustScaler()),\n",
    "             ('imputer', KNNImputer(n_neighbors=2, weights=\"distance\")),\n",
    "             ('oversampling', SMOTE(sampling_strategy=1.0)),\n",
    "             ('clf', clf)])\n",
    "\n",
    "inner_cv = StratifiedKFold(n_splits=10, shuffle=True, random_state=1)\n",
    "\n",
    "grid_search_oversampling = GridSearchCV(pipe_oversampling, \n",
    "                       param_grid=param_grid, \n",
    "                       scoring='roc_auc', \n",
    "                       refit=True, \n",
    "                       return_train_score=True, \n",
    "                       cv=inner_cv,\n",
    "                       n_jobs=-1)\n",
    "\n",
    "# execute search\n",
    "search_result_oversampling = grid_search.fit(X, y)"
   ]
  },
  {
   "cell_type": "code",
   "execution_count": 44,
   "metadata": {
    "ExecuteTime": {
     "end_time": "2021-06-04T10:47:54.766953Z",
     "start_time": "2021-06-04T10:47:54.751751Z"
    }
   },
   "outputs": [
    {
     "data": {
      "text/plain": [
       "array([[0.03187579, 0.96812421]])"
      ]
     },
     "execution_count": 44,
     "metadata": {},
     "output_type": "execute_result"
    }
   ],
   "source": [
    "nan = float(\"nan\")\n",
    "test = np.array([nan, nan, nan, nan, nan, nan]).reshape(1, -1)\n",
    "search_result_oversampling.best_estimator_.predict_proba(test)"
   ]
  },
  {
   "cell_type": "code",
   "execution_count": null,
   "metadata": {},
   "outputs": [],
   "source": []
  },
  {
   "cell_type": "code",
   "execution_count": 10,
   "metadata": {
    "ExecuteTime": {
     "end_time": "2021-06-01T18:25:11.328203Z",
     "start_time": "2021-06-01T18:23:31.961400Z"
    }
   },
   "outputs": [
    {
     "name": "stderr",
     "output_type": "stream",
     "text": [
      "/home/jupyter-lukas.ehrig/.local/lib/python3.7/site-packages/lightgbm/engine.py:151: UserWarning: Found `num_iterations` in params. Will use it instead of argument\n",
      "  warnings.warn(\"Found `{}` in params. Will use it instead of argument\".format(alias))\n"
     ]
    }
   ],
   "source": [
    "# data_path = '../data/adhs-fasd-17032021.xlsx'\n",
    "# missing_values_thresh = 36\n",
    "# mice_iterations = 50\n",
    "\n",
    "# # data = pd.read_excel(data_path)\n",
    "# # on jupyterhub setup, we need openpyxl for reading the data \n",
    "# data = pd.read_excel(data_path, engine='openpyxl')\n",
    "\n",
    "# data = data.select_dtypes(\n",
    "#     include=['float64','int64'],\n",
    "#     exclude=['object']\n",
    "#     )\n",
    "\n",
    "# n_missing_nofas = (data[(data.FASDjanein == 0)].isnull().sum() * 100 / len(data[(data.FASDjanein == 0)]))\n",
    "# n_missing_nofas_thresh = set(n_missing_nofas[n_missing_nofas < missing_values_thresh].index)\n",
    "\n",
    "# n_missing_fas = (data[(data.FASDjanein == 1)].isnull().sum() * 100 / len(data[(data.FASDjanein == 1)]))\n",
    "# n_missing_fas_thresh = set(n_missing_fas[n_missing_fas < missing_values_thresh].index)\n",
    "\n",
    "# features_thresh = list(n_missing_fas_thresh.intersection(n_missing_nofas_thresh))\n",
    "\n",
    "# # n_missing_fas_35.union(n_missing_nofas_35).difference(n_missing_fas_35.intersection(n_missing_nofas_35))\n",
    "\n",
    "# fs6 = [\n",
    "#     'GKUzscore',\n",
    "#     'GLzscore',\n",
    "#     'IQunter85',\n",
    "#     'Distanzlos',\n",
    "#     'Nichtmerkfähig',\n",
    "#     'Schlafstörungen'\n",
    "# ]\n",
    "\n",
    "# features = fs6\n",
    "\n",
    "# X = data[features].to_numpy()\n",
    "# y = data['FASDjanein'].to_numpy()\n",
    "\n",
    "# clf = lightgbm.LGBMClassifier()\n",
    "\n",
    "# param_grid = { 'imputer__n_neighbors' : [1, 4, 6, 10],\n",
    "#               'imputer__weights' : ['distance', 'uniform'],\n",
    "#               'clf__max_bin': [127, 255, 511],\n",
    "#               'clf__learning_rate': [0.05, 0.1, 0.2, 0.5, 1],\n",
    "#               'clf__num_iterations': [10, 20, 50, 100],\n",
    "#               'clf__boosting': ['gbdt', 'dart']\n",
    "#              }\n",
    "\n",
    "# pipe = Pipeline([('scaler', sk.preprocessing.RobustScaler()),\n",
    "#                  ('imputer', KNNImputer(n_neighbors=2, weights=\"distance\")),\n",
    "#                  ('clf', clf)])\n",
    "\n",
    "# inner_cv = StratifiedKFold(n_splits=10, shuffle=True, random_state=1)\n",
    "\n",
    "# grid_search = GridSearchCV(pipe, \n",
    "#                        param_grid=param_grid, \n",
    "#                        scoring='roc_auc', \n",
    "#                        refit=True, \n",
    "#                        return_train_score=True, \n",
    "#                        cv=inner_cv,\n",
    "#                        n_jobs=-1)\n",
    "\n",
    "# # execute search\n",
    "# search_result = grid_search.fit(X, y)"
   ]
  }
 ],
 "metadata": {
  "kernelspec": {
   "display_name": "Python 3",
   "language": "python",
   "name": "python3"
  },
  "language_info": {
   "codemirror_mode": {
    "name": "ipython",
    "version": 3
   },
   "file_extension": ".py",
   "mimetype": "text/x-python",
   "name": "python",
   "nbconvert_exporter": "python",
   "pygments_lexer": "ipython3",
   "version": "3.7.3"
  }
 },
 "nbformat": 4,
 "nbformat_minor": 4
}
